{
 "cells": [
  {
   "cell_type": "code",
   "execution_count": 1,
   "metadata": {},
   "outputs": [],
   "source": [
    "# import all necessary packages\n",
    "import tensorflow as tf\n",
    "import os\n",
    "import numpy as np\n",
    "import glob\n",
    "import time"
   ]
  },
  {
   "cell_type": "code",
   "execution_count": 2,
   "metadata": {},
   "outputs": [],
   "source": [
    "# setup the constants\n",
    "IMG_SHAPE = 224  # size of our input image needed for our model IMG_SHAPE x IMG_SHAPE x 3 (color)\n",
    "MODEL_DIRECTORY = 'C:/Users/thoma/Documents/CSU East Bay/2nd Year/Fall 2019/CS 663/Projects/Project 3/Part 1'\n",
    "DATA_DIRECTORY = 'C:/Users/thoma/Documents/CSU East Bay/2nd Year/Fall 2019/CS 663/Projects/Project 3/Video Dataset (Full)'\n",
    "\n",
    "# labels for the 3 classes\n",
    "LABELS = ['MoveLeft','MoveRight','MoveStraight']\n",
    "\n",
    "DECISION_DIFFERENCE_THRESHOLD = 0.1\n",
    "SEQUENCE_LENGTH = 40\n",
    "FEATURE_LENGTH = 1280"
   ]
  },
  {
   "cell_type": "code",
   "execution_count": 3,
   "metadata": {},
   "outputs": [],
   "source": [
    "# function to load a model from an h5 file\n",
    "def loadModelFrom_H5_File(model_file):\n",
    "    new_model = tf.keras.models.load_model(model_file)\n",
    "    \n",
    "    return new_model"
   ]
  },
  {
   "cell_type": "code",
   "execution_count": 4,
   "metadata": {},
   "outputs": [],
   "source": [
    "# function to load and prepare the video feature data from a file\n",
    "def loadData(data_path, sequence_length, feature_length):\n",
    "    features = np.load(data_path)\n",
    "    features = np.expand_dims(features,axis=0)\n",
    "    padded_sequence = np.zeros((1,sequence_length, feature_length))\n",
    "    padded_sequence[0:len(features)] = np.array(features)\n",
    "    \n",
    "    return padded_sequence"
   ]
  },
  {
   "cell_type": "code",
   "execution_count": 5,
   "metadata": {},
   "outputs": [],
   "source": [
    "# function to use an LSTM model to make a prediction on live video data\n",
    "def predict(input, model):\n",
    "    prediction = model.predict(input, batch_size=1, verbose=0)\n",
    "    \n",
    "    return prediction"
   ]
  },
  {
   "cell_type": "code",
   "execution_count": 6,
   "metadata": {},
   "outputs": [],
   "source": [
    "# function to make a classification decision and return a label\n",
    "def makeDecision(predictions, class_labels):\n",
    "    max_index = np.argmax(predictions)\n",
    "    predictions2 = np.delete(predictions,[max_index],None)\n",
    "    max_index2 = np.argmax(predictions2)\n",
    "    \n",
    "    if(max_index2 >= max_index):\n",
    "        max_index2 = max_index2 + 1\n",
    "    \n",
    "    if(predictions[0][max_index] >= predictions[0][max_index2] and \n",
    "      (predictions[0][max_index]-predictions[0][max_index2]) > DECISION_DIFFERENCE_THRESHOLD):\n",
    "        label = class_labels[max_index]\n",
    "    else:\n",
    "        label = \"Unknown\"\n",
    "    \n",
    "    return label"
   ]
  },
  {
   "cell_type": "code",
   "execution_count": 7,
   "metadata": {},
   "outputs": [
    {
     "name": "stdout",
     "output_type": "stream",
     "text": [
      "WARNING:tensorflow:Sequential models without an `input_shape` passed to the first layer cannot reload their optimizer state. As a result, your model isstarting with a freshly initialized optimizer.\n"
     ]
    }
   ],
   "source": [
    "# load the saved LSTM model\n",
    "model_files = os.path.join(MODEL_DIRECTORY, '*.h5')\n",
    "model_paths = tf.io.gfile.glob(model_files)\n",
    "model_file = model_paths[0]\n",
    "model = loadModelFrom_H5_File(model_file)   "
   ]
  },
  {
   "cell_type": "code",
   "execution_count": 8,
   "metadata": {},
   "outputs": [],
   "source": [
    "# get all of the filenames and paths for the testing dataset from the\n",
    "# .txt file that was created from the FeatureExtractionNotebook\n",
    "testing_file = os.path.join(DATA_DIRECTORY,'TestList.txt')\n",
    "\n",
    "with open(testing_file) as f:\n",
    "    testing_list = [row.strip() for row in list(f)]"
   ]
  },
  {
   "cell_type": "code",
   "execution_count": 9,
   "metadata": {},
   "outputs": [],
   "source": [
    "# make a folder to store all of the batch prediction results if it doesn't already exist\n",
    "results_directory = os.path.join(DATA_DIRECTORY,'BatchTestingPredictionResults')\n",
    "if not os.path.exists(results_directory):\n",
    "    os.mkdir(results_directory)"
   ]
  },
  {
   "cell_type": "code",
   "execution_count": 10,
   "metadata": {},
   "outputs": [],
   "source": [
    "# create a new .txt file to save the results of the batch prediction\n",
    "timestr = time.strftime(\"%Y%m%d-%H%M%S\")\n",
    "batch_prediction_filename = \"BatchPredictions_\" + timestr + \".txt\"\n",
    "batch_prediction_filename = os.path.join(results_directory,batch_prediction_filename)\n",
    "prediction_file = open(batch_prediction_filename, 'w+')"
   ]
  },
  {
   "cell_type": "code",
   "execution_count": 11,
   "metadata": {},
   "outputs": [],
   "source": [
    "# make and save predictions for all of the testing files in testing_list\n",
    "for i in range(len(testing_list)):\n",
    "    features = loadData(testing_list[i], SEQUENCE_LENGTH, FEATURE_LENGTH)\n",
    "    prediction = predict(features, model)\n",
    "    classification = makeDecision(prediction, LABELS)\n",
    "    prediction_file.write(\"Prediction: \" + classification + \"\\n\" \n",
    "                          \"Prediction Data Source: \" + testing_list[i] + \"\\n\\n\\n\")\n",
    "\n",
    "prediction_file.close()"
   ]
  }
 ],
 "metadata": {
  "kernelspec": {
   "display_name": "Python 3",
   "language": "python",
   "name": "python3"
  },
  "language_info": {
   "codemirror_mode": {
    "name": "ipython",
    "version": 3
   },
   "file_extension": ".py",
   "mimetype": "text/x-python",
   "name": "python",
   "nbconvert_exporter": "python",
   "pygments_lexer": "ipython3",
   "version": "3.7.1"
  }
 },
 "nbformat": 4,
 "nbformat_minor": 2
}
